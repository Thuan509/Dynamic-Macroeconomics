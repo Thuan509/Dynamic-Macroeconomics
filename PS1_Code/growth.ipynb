{
 "cells": [
  {
   "cell_type": "markdown",
   "metadata": {},
   "source": [
    "## 5a\n",
    "We collect the GDP growth data of Vietnam from 1985 to 2023\n",
    "The factors that affect economic growth in Vietnam are:\n",
    "- FDI inflows & outflows\n",
    "- Contribution of the service sector since in the most recent year, Vietnam’s service sector contributed the largest percentage to the country’s gross domestic product (GDP).\n",
    "- Trade & Investment (?)\n"
   ]
  },
  {
   "cell_type": "code",
   "execution_count": 1,
   "metadata": {},
   "outputs": [],
   "source": [
    "import pandas as pd\n",
    "import numpy as np\n",
    "import matplotlib.pyplot as plt"
   ]
  },
  {
   "cell_type": "code",
   "execution_count": 11,
   "metadata": {},
   "outputs": [
    {
     "data": {
      "text/html": [
       "<div>\n",
       "<style scoped>\n",
       "    .dataframe tbody tr th:only-of-type {\n",
       "        vertical-align: middle;\n",
       "    }\n",
       "\n",
       "    .dataframe tbody tr th {\n",
       "        vertical-align: top;\n",
       "    }\n",
       "\n",
       "    .dataframe thead th {\n",
       "        text-align: right;\n",
       "    }\n",
       "</style>\n",
       "<table border=\"1\" class=\"dataframe\">\n",
       "  <thead>\n",
       "    <tr style=\"text-align: right;\">\n",
       "      <th></th>\n",
       "      <th>Unnamed: 0</th>\n",
       "      <th>1985</th>\n",
       "      <th>1986</th>\n",
       "      <th>1987</th>\n",
       "      <th>1988</th>\n",
       "      <th>1989</th>\n",
       "      <th>1990</th>\n",
       "      <th>1991</th>\n",
       "      <th>1992</th>\n",
       "      <th>1993</th>\n",
       "      <th>...</th>\n",
       "      <th>2014</th>\n",
       "      <th>2015</th>\n",
       "      <th>2016</th>\n",
       "      <th>2017</th>\n",
       "      <th>2018</th>\n",
       "      <th>2019</th>\n",
       "      <th>2020</th>\n",
       "      <th>2021</th>\n",
       "      <th>2022</th>\n",
       "      <th>2023</th>\n",
       "    </tr>\n",
       "  </thead>\n",
       "  <tbody>\n",
       "    <tr>\n",
       "      <th>0</th>\n",
       "      <td>GDP growth rate (%)</td>\n",
       "      <td>3.805856</td>\n",
       "      <td>2.789292</td>\n",
       "      <td>3.58347</td>\n",
       "      <td>5.135012</td>\n",
       "      <td>7.364513</td>\n",
       "      <td>5.100918</td>\n",
       "      <td>5.960844</td>\n",
       "      <td>8.646047</td>\n",
       "      <td>8.072731</td>\n",
       "      <td>...</td>\n",
       "      <td>6.422243</td>\n",
       "      <td>6.987154</td>\n",
       "      <td>6.690009</td>\n",
       "      <td>6.94019</td>\n",
       "      <td>7.465007</td>\n",
       "      <td>7.359263</td>\n",
       "      <td>2.865413</td>\n",
       "      <td>2.553729</td>\n",
       "      <td>8.123514</td>\n",
       "      <td>5.046431</td>\n",
       "    </tr>\n",
       "  </tbody>\n",
       "</table>\n",
       "<p>1 rows × 40 columns</p>\n",
       "</div>"
      ],
      "text/plain": [
       "            Unnamed: 0      1985      1986     1987      1988      1989  \\\n",
       "0  GDP growth rate (%)  3.805856  2.789292  3.58347  5.135012  7.364513   \n",
       "\n",
       "       1990      1991      1992      1993  ...      2014      2015      2016  \\\n",
       "0  5.100918  5.960844  8.646047  8.072731  ...  6.422243  6.987154  6.690009   \n",
       "\n",
       "      2017      2018      2019      2020      2021      2022      2023  \n",
       "0  6.94019  7.465007  7.359263  2.865413  2.553729  8.123514  5.046431  \n",
       "\n",
       "[1 rows x 40 columns]"
      ]
     },
     "execution_count": 11,
     "metadata": {},
     "output_type": "execute_result"
    }
   ],
   "source": [
    "df = pd.read_csv(\"data.csv\")\n",
    "df"
   ]
  },
  {
   "cell_type": "code",
   "execution_count": null,
   "metadata": {},
   "outputs": [],
   "source": [
    "plt.plot()"
   ]
  }
 ],
 "metadata": {
  "kernelspec": {
   "display_name": "Python 3",
   "language": "python",
   "name": "python3"
  },
  "language_info": {
   "codemirror_mode": {
    "name": "ipython",
    "version": 3
   },
   "file_extension": ".py",
   "mimetype": "text/x-python",
   "name": "python",
   "nbconvert_exporter": "python",
   "pygments_lexer": "ipython3",
   "version": "3.11.4"
  }
 },
 "nbformat": 4,
 "nbformat_minor": 2
}
